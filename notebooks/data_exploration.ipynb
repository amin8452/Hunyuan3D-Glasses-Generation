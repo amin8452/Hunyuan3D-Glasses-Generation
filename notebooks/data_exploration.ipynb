{
 "cells": [
  {
   "cell_type": "markdown",
   "metadata": {},
   "source": [
    "# Exploration des Données pour la Génération de Lunettes 3D\n",
    "\n",
    "Ce notebook explore les données d'images de lunettes et leurs caractéristiques pour l'adaptation du modèle Hunyuan3D 2.0."
   ]
  },
  {
   "cell_type": "code",
   "execution_count": null,
   "metadata": {},
   "source": [
    "import os\n",
    "import sys\n",
    "import json\n",
    "import numpy as np\n",
    "import matplotlib.pyplot as plt\n",
    "from PIL import Image\n",
    "import cv2\n",
    "import glob\n",
    "import torch\n",
    "import torchvision.transforms as transforms\n",
    "from tqdm.notebook import tqdm\n",
    "\n",
    "# Ajout du répertoire parent au path pour importer les modules personnalisés\n",
    "sys.path.append(os.path.dirname(os.path.dirname(os.path.abspath('__file__'))))\n",
    "from utils.dataset import GlassesDataset"
   ]
  },
  {
   "cell_type": "markdown",
   "metadata": {},
   "source": [
    "## 1. Configuration"
   ]
  },
  {
   "cell_type": "code",
   "execution_count": null,
   "metadata": {},
   "source": [
    "# Répertoire des données\n",
    "DATA_DIR = \"../data/train\"\n",
    "\n",
    "# Vérification de l'existence du répertoire\n",
    "if not os.path.exists(DATA_DIR):\n",
    "    print(f\"Le répertoire {DATA_DIR} n'existe pas. Créez-le et ajoutez-y des images de lunettes.\")\n",
    "else:\n",
    "    print(f\"Répertoire des données: {DATA_DIR}\")"
   ]
  },
  {
   "cell_type": "markdown",
   "metadata": {},
   "source": [
    "## 2. Exploration des Images"
   ]
  },
  {
   "cell_type": "code",
   "execution_count": null,
   "metadata": {},
   "source": [
    "# Recherche des images dans le répertoire\n",
    "image_paths = []\n",
    "for ext in [\"*.jpg\", \"*.jpeg\", \"*.png\"]:\n",
    "    image_paths.extend(glob.glob(os.path.join(DATA_DIR, \"images\", ext)))\n",
    "\n",
    "print(f\"Nombre d'images trouvées: {len(image_paths)}\")\n",
    "\n",
    "# Affichage de quelques images\n",
    "if len(image_paths) > 0:\n",
    "    fig, axes = plt.subplots(2, 3, figsize=(15, 10))\n",
    "    axes = axes.flatten()\n",
    "    \n",
    "    for i, img_path in enumerate(image_paths[:6]):\n",
    "        img = Image.open(img_path)\n",
    "        axes[i].imshow(img)\n",
    "        axes[i].set_title(os.path.basename(img_path))\n",
    "        axes[i].axis(\"off\")\n",
    "    \n",
    "    plt.tight_layout()\n",
    "    plt.show()"
   ]
  },
  {
   "cell_type": "markdown",
   "metadata": {},
   "source": [
    "## 3. Analyse des Caractéristiques des Lunettes"
   ]
  },
  {
   "cell_type": "code",
   "execution_count": null,
   "metadata": {},
   "source": [
    "def extract_glasses_features(image_path):\n",
    "    \"\"\"Extraction des caractéristiques des lunettes à partir d'une image\"\"\"\n",
    "    # Chargement de l'image\n",
    "    image = Image.open(image_path).convert(\"RGB\")\n",
    "    image_np = np.array(image)\n",
    "    \n",
    "    # Conversion en niveaux de gris\n",
    "    gray = cv2.cvtColor(image_np, cv2.COLOR_RGB2GRAY)\n",
    "    \n",
    "    # Flou gaussien pour réduire le bruit\n",
    "    blurred = cv2.GaussianBlur(gray, (5, 5), 0)\n",
    "    \n",
    "    # Détection des contours\n",
    "    edges = cv2.Canny(blurred, 50, 150)\n",
    "    \n",
    "    # Recherche des contours\n",
    "    contours, _ = cv2.findContours(edges, cv2.RETR_EXTERNAL, cv2.CHAIN_APPROX_SIMPLE)\n",
    "    \n",
    "    # Caractéristiques\n",
    "    features = {}\n",
    "    \n",
    "    if contours:\n",
    "        # Trouver le plus grand contour (supposé être les lunettes)\n",
    "        largest_contour = max(contours, key=cv2.contourArea)\n",
    "        \n",
    "        # Rectangle englobant\n",
    "        x, y, w, h = cv2.boundingRect(largest_contour)\n",
    "        features[\"bounding_box\"] = (x, y, w, h)\n",
    "        \n",
    "        # Centre\n",
    "        M = cv2.moments(largest_contour)\n",
    "        if M[\"m00\"] != 0:\n",
    "            cx = int(M[\"m10\"] / M[\"m00\"])\n",
    "            cy = int(M[\"m01\"] / M[\"m00\"])\n",
    "        else:\n",
    "            cx, cy = x + w // 2, y + h // 2\n",
    "        features[\"center\"] = (cx, cy)\n",
    "        \n",
    "        # Aire\n",
    "        features[\"area\"] = cv2.contourArea(largest_contour)\n",
    "        \n",
    "        # Périmètre\n",
    "        features[\"perimeter\"] = cv2.arcLength(largest_contour, True)\n",
    "        \n",
    "        # Orientation (si possible)\n",
    "        if len(largest_contour) >= 5:\n",
    "            (x_ellipse, y_ellipse), (MA, ma), angle = cv2.fitEllipse(largest_contour)\n",
    "            features[\"orientation\"] = angle\n",
    "            features[\"aspect_ratio\"] = MA / ma if ma > 0 else 0\n",
    "        \n",
    "        # Visualisation\n",
    "        vis_image = image_np.copy()\n",
    "        cv2.drawContours(vis_image, [largest_contour], 0, (0, 255, 0), 2)\n",
    "        cv2.rectangle(vis_image, (x, y), (x + w, y + h), (255, 0, 0), 2)\n",
    "        cv2.circle(vis_image, (cx, cy), 5, (0, 0, 255), -1)\n",
    "        \n",
    "        features[\"visualization\"] = vis_image\n",
    "    \n",
    "    return features\n",
    "\n",
    "# Analyse de quelques images\n",
    "if len(image_paths) > 0:\n",
    "    fig, axes = plt.subplots(2, 3, figsize=(15, 10))\n",
    "    axes = axes.flatten()\n",
    "    \n",
    "    for i, img_path in enumerate(image_paths[:6]):\n",
    "        features = extract_glasses_features(img_path)\n",
    "        \n",
    "        if \"visualization\" in features:\n",
    "            axes[i].imshow(features[\"visualization\"])\n",
    "            title = f\"BB: {features['bounding_box']}\\nArea: {features['area']:.0f}\"\n",
    "            if \"orientation\" in features:\n",
    "                title += f\"\\nAngle: {features['orientation']:.1f}°\"\n",
    "            axes[i].set_title(title)\n",
    "        else:\n",
    "            img = Image.open(img_path)\n",
    "            axes[i].imshow(img)\n",
    "            axes[i].set_title(\"Pas de contour détecté\")\n",
    "        \n",
    "        axes[i].axis(\"off\")\n",
    "    \n",
    "    plt.tight_layout()\n",
    "    plt.show()"
   ]
  },
  {
   "cell_type": "markdown",
   "metadata": {},
   "source": [
    "## 4. Utilisation du Dataset"
   ]
  },
  {
   "cell_type": "code",
   "execution_count": null,
   "metadata": {},
   "source": [
    "# Création du dataset\n",
    "dataset = GlassesDataset(DATA_DIR)\n",
    "print(f\"Taille du dataset: {len(dataset)}\")\n",
    "\n",
    "# Affichage de quelques exemples\n",
    "if len(dataset) > 0:\n",
    "    fig, axes = plt.subplots(2, 3, figsize=(15, 10))\n",
    "    axes = axes.flatten()\n",
    "    \n",
    "    for i in range(min(6, len(dataset))):\n",
    "        sample = dataset[i]\n",
    "        img = sample[\"image\"]\n",
    "        \n",
    "        # Conversion du tensor en image\n",
    "        img = img.numpy().transpose(1, 2, 0)\n",
    "        img = (img * 0.5 + 0.5).clip(0, 1)  # Dénormalisation\n",
    "        \n",
    "        axes[i].imshow(img)\n",
    "        axes[i].set_title(sample[\"image_name\"])\n",
    "        axes[i].axis(\"off\")\n",
    "    \n",
    "    plt.tight_layout()\n",
    "    plt.show()"
   ]
  },
  {
   "cell_type": "markdown",
   "metadata": {},
   "source": [
    "## 5. Analyse des Métadonnées"
   ]
  },
  {
   "cell_type": "code",
   "execution_count": null,
   "metadata": {},
   "source": [
    "# Chargement des métadonnées si elles existent\n",
    "metadata_path = os.path.join(DATA_DIR, \"metadata.json\")\n",
    "if os.path.exists(metadata_path):\n",
    "    with open(metadata_path, \"r\") as f:\n",
    "        metadata = json.load(f)\n",
    "    \n",
    "    print(f\"Nombre d'entrées dans les métadonnées: {len(metadata)}\")\n",
    "    \n",
    "    # Affichage des clés pour une entrée\n",
    "    if len(metadata) > 0:\n",
    "        first_key = list(metadata.keys())[0]\n",
    "        print(f\"\\nClés pour {first_key}:\")\n",
    "        for key, value in metadata[first_key].items():\n",
    "            print(f\"  {key}: {value}\")\n",
    "    \n",
    "    # Analyse statistique\n",
    "    if len(metadata) > 0:\n",
    "        # Extraction des caractéristiques\n",
    "        widths = [item[\"width\"] for item in metadata.values() if \"width\" in item]\n",
    "        heights = [item[\"height\"] for item in metadata.values() if \"height\" in item]\n",
    "        areas = [item[\"area\"] for item in metadata.values() if \"area\" in item]\n",
    "        angles = [item[\"angle\"] for item in metadata.values() if \"angle\" in item]\n",
    "        \n",
    "        # Statistiques\n",
    "        print(\"\\nStatistiques:\")\n",
    "        print(f\"  Largeur moyenne: {np.mean(widths):.1f} ± {np.std(widths):.1f}\")\n",
    "        print(f\"  Hauteur moyenne: {np.mean(heights):.1f} ± {np.std(heights):.1f}\")\n",
    "        print(f\"  Aire moyenne: {np.mean(areas):.1f} ± {np.std(areas):.1f}\")\n",
    "        print(f\"  Angle moyen: {np.mean(angles):.1f}° ± {np.std(angles):.1f}°\")\n",
    "        \n",
    "        # Visualisation\n",
    "        fig, axes = plt.subplots(2, 2, figsize=(12, 10))\n",
    "        \n",
    "        axes[0, 0].hist(widths, bins=20)\n",
    "        axes[0, 0].set_title(\"Distribution des largeurs\")\n",
    "        axes[0, 0].set_xlabel(\"Largeur (pixels)\")\n",
    "        \n",
    "        axes[0, 1].hist(heights, bins=20)\n",
    "        axes[0, 1].set_title(\"Distribution des hauteurs\")\n",
    "        axes[0, 1].set_xlabel(\"Hauteur (pixels)\")\n",
    "        \n",
    "        axes[1, 0].hist(areas, bins=20)\n",
    "        axes[1, 0].set_title(\"Distribution des aires\")\n",
    "        axes[1, 0].set_xlabel(\"Aire (pixels²)\")\n",
    "        \n",
    "        axes[1, 1].hist(angles, bins=20)\n",
    "        axes[1, 1].set_title(\"Distribution des angles\")\n",
    "        axes[1, 1].set_xlabel(\"Angle (degrés)\")\n",
    "        \n",
    "        plt.tight_layout()\n",
    "        plt.show()\n",
    "else:\n",
    "    print(f\"Pas de métadonnées trouvées à {metadata_path}\")"
   ]
  },
  {
   "cell_type": "markdown",
   "metadata": {},
   "source": [
    "## 6. Conclusion\n",
    "\n",
    "Cette analyse des données nous a permis de mieux comprendre les caractéristiques des images de lunettes dans notre dataset. Ces informations seront utiles pour adapter le modèle Hunyuan3D 2.0 à la génération de lunettes 3D."
   ]
  }
 ],
 "metadata": {
  "kernelspec": {
   "display_name": "Python 3",
   "language": "python",
   "name": "python3"
  },
  "language_info": {
   "codemirror_mode": {
    "name": "ipython",
    "version": 3
   },
   "file_extension": ".py",
   "mimetype": "text/x-python",
   "name": "python",
   "nbconvert_exporter": "python",
   "pygments_lexer": "ipython3",
   "version": "3.8.10"
  }
 },
 "nbformat": 4,
 "nbformat_minor": 4
}
